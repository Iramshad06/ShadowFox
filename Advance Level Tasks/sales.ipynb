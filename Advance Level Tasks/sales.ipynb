import pandas as pd
import numpy as np
import matplotlib.pyplot as plt
import seaborn as sns

np.random.seed(42)  
dates = pd.date_range(start='2023-01-01', periods=100, freq='D')  
advertising_budget = np.random.randint(100, 1000, size=100)  
sales = advertising_budget * np.random.uniform(0.5, 2.0, size=100) + np.random.randint(-50, 50, size=100)  

df = pd.DataFrame({'Date': dates, 'Advertising_Budget': advertising_budget, 'Sales': sales})

df.loc[np.random.choice(df.index, size=5, replace=False), 'Sales'] = np.nan  

print("First few rows of the dataset:")
print(df.head())  

print("\nSummary of the dataset:")
print(df.describe())  

print("\nChecking for missing values:")
print(df.isnull().sum())  

df.fillna(df['Sales'].mean(), inplace=True)  

plt.figure(figsize=(8, 5))
sns.histplot(df['Sales'], bins=20, kde=True, color='blue')
plt.title('Distribution of Sales')
plt.xlabel('Sales')
plt.ylabel('Frequency')
plt.show()

plt.figure(figsize=(8, 6))
sns.scatterplot(x=df['Advertising_Budget'], y=df['Sales'], alpha=0.7)
plt.title('Advertising Budget vs Sales')
plt.xlabel('Advertising Budget ($)')
plt.ylabel('Sales ($)')
plt.show()

plt.figure(figsize=(6, 5))
sns.heatmap(df.corr(), annot=True, cmap='coolwarm', fmt=".2f")
plt.title('Correlation Between Variables')
plt.show()

df['Date'] = pd.to_datetime(df['Date'])  
plt.figure(figsize=(10, 5))
sns.lineplot(x=df['Date'], y=df['Sales'], label="Sales Trend", color='blue')
plt.title('Sales Trend Over Time')
plt.xlabel('Date')
plt.ylabel('Sales')
plt.xticks(rotation=45)
plt.legend()
plt.show()

print("\nConclusion:")
print("- Sales increase as advertising budget increases, showing a strong positive correlation.")
print("- Sales fluctuate over time, which suggests possible seasonal trends.")
print("- Increasing advertising spend could help businesses improve revenue.")
